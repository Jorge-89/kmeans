{
  "cells": [
    {
      "cell_type": "markdown",
      "metadata": {
        "id": "view-in-github",
        "colab_type": "text"
      },
      "source": [
        "<a href=\"https://colab.research.google.com/github/Jorge-89/kmeans/blob/main/fast_API_kMEANS.ipynb\" target=\"_parent\"><img src=\"https://colab.research.google.com/assets/colab-badge.svg\" alt=\"Open In Colab\"/></a>"
      ]
    },
    {
      "cell_type": "code",
      "execution_count": null,
      "id": "c9a7e179",
      "metadata": {
        "id": "c9a7e179"
      },
      "outputs": [],
      "source": [
        "\n",
        "\n",
        "from fastapi import FastAPI, File, Form, UploadFile\n",
        "from pydantic import BaseModel\n",
        "import pickle\n",
        "import numpy as np\n",
        "import pandas as pd\n",
        "from io import StringIO\n",
        "\n",
        "app = FastAPI()\n",
        "\n",
        "class Kmeans(BaseModel):\n",
        "    edad: float \n",
        "    salario: float \n",
        "    score: float \n",
        "    \n",
        "\n",
        "@app.post('/predict')\n",
        "async def clasificadores(variables_entrada: Kmeans):\n",
        "    data = variables_entrada.dict()\n",
        "    loaded_model = pickle.load(open('model.pkl', 'rb'))\n",
        "    data_in = [[data['edad'], data['salario'], data['score']]]\n",
        "    prediction = loaded_model.predict(data_in)\n",
        "    \n",
        "   \n",
        "            \n",
        "    return int(prediction)\n",
        "\n",
        "# uvicorn main:app --reload\n",
        "\n",
        "#https://fastapi.tiangolo.com/\n",
        "# http://127.0.0.1:8000/docs"
      ]
    },
    {
      "cell_type": "code",
      "execution_count": null,
      "id": "3fc1b166",
      "metadata": {
        "id": "3fc1b166",
        "outputId": "0fdc3234-0857-404b-c0ad-789cd7431a56"
      },
      "outputs": [
        {
          "name": "stdout",
          "output_type": "stream",
          "text": [
            "1\n",
            "4\n"
          ]
        }
      ],
      "source": [
        "import requests\n",
        "import json\n",
        "new_measurement = [{\n",
        "\"edad\": 71,\n",
        "\"salario\": 50,\n",
        "\"score\": 60},\n",
        "{\"edad\": 51,\n",
        "\"salario\": 80,\n",
        "\"score\": 80}]\n",
        "\n",
        "for i in range(len(new_measurement)):\n",
        "    response = requests.post('http://127.0.0.1:4000/predict', json=new_measurement[i])\n",
        "    print(json.loads(response.content))\n",
        "    "
      ]
    },
    {
      "cell_type": "code",
      "execution_count": null,
      "id": "c19cd862",
      "metadata": {
        "id": "c19cd862",
        "outputId": "ffa87cd3-604b-4216-a29a-fefda3494277"
      },
      "outputs": [
        {
          "name": "stdout",
          "output_type": "stream",
          "text": [
            "1\n",
            "4\n",
            "4\n"
          ]
        }
      ],
      "source": [
        "import requests\n",
        "import json\n",
        "new_measurement = [{\n",
        "\"edad\": 71,\n",
        "\"salario\": 50,\n",
        "\"score\": 60},\n",
        "{\"edad\": 51,\n",
        "\"salario\": 80,\n",
        "\"score\": 80},{'edad': 31, 'salario': 80, 'score': 80}]\n",
        "\n",
        "\n",
        "for i in range(len(new_measurement)):\n",
        "    response = requests.post('https://k-means-v1.herokuapp.com/predict', json=new_measurement[i])\n",
        "    print(json.loads(response.content))\n",
        "# https://dashboard.heroku.com/apps/k-means-v1\n"
      ]
    },
    {
      "cell_type": "code",
      "execution_count": null,
      "id": "4e77828f",
      "metadata": {
        "id": "4e77828f"
      },
      "outputs": [],
      "source": [
        "import pandas as pd\n",
        "file_path = r'C:/Users\\jorge\\Documents/probando.xlsx'\n",
        "df = pd.read_excel(file_path)\n"
      ]
    },
    {
      "cell_type": "code",
      "execution_count": null,
      "id": "1b0cc492",
      "metadata": {
        "id": "1b0cc492",
        "outputId": "8bb948a5-c92c-4c77-dffe-4f37a2ffd564"
      },
      "outputs": [
        {
          "data": {
            "text/html": [
              "<div>\n",
              "<style scoped>\n",
              "    .dataframe tbody tr th:only-of-type {\n",
              "        vertical-align: middle;\n",
              "    }\n",
              "\n",
              "    .dataframe tbody tr th {\n",
              "        vertical-align: top;\n",
              "    }\n",
              "\n",
              "    .dataframe thead th {\n",
              "        text-align: right;\n",
              "    }\n",
              "</style>\n",
              "<table border=\"1\" class=\"dataframe\">\n",
              "  <thead>\n",
              "    <tr style=\"text-align: right;\">\n",
              "      <th></th>\n",
              "      <th>nombre</th>\n",
              "      <th>edad</th>\n",
              "      <th>salario</th>\n",
              "      <th>score</th>\n",
              "    </tr>\n",
              "  </thead>\n",
              "  <tbody>\n",
              "    <tr>\n",
              "      <th>0</th>\n",
              "      <td>Juan</td>\n",
              "      <td>71</td>\n",
              "      <td>50</td>\n",
              "      <td>60</td>\n",
              "    </tr>\n",
              "    <tr>\n",
              "      <th>1</th>\n",
              "      <td>Jorge</td>\n",
              "      <td>33</td>\n",
              "      <td>50</td>\n",
              "      <td>30</td>\n",
              "    </tr>\n",
              "    <tr>\n",
              "      <th>2</th>\n",
              "      <td>Daniela</td>\n",
              "      <td>31</td>\n",
              "      <td>80</td>\n",
              "      <td>80</td>\n",
              "    </tr>\n",
              "    <tr>\n",
              "      <th>3</th>\n",
              "      <td>pedro</td>\n",
              "      <td>20</td>\n",
              "      <td>20</td>\n",
              "      <td>30</td>\n",
              "    </tr>\n",
              "  </tbody>\n",
              "</table>\n",
              "</div>"
            ],
            "text/plain": [
              "    nombre  edad  salario  score\n",
              "0     Juan    71       50     60\n",
              "1    Jorge    33       50     30\n",
              "2  Daniela    31       80     80\n",
              "3    pedro    20       20     30"
            ]
          },
          "execution_count": 135,
          "metadata": {},
          "output_type": "execute_result"
        }
      ],
      "source": [
        "df"
      ]
    },
    {
      "cell_type": "code",
      "execution_count": null,
      "id": "3bab6db3",
      "metadata": {
        "id": "3bab6db3"
      },
      "outputs": [],
      "source": [
        "lista=[]"
      ]
    },
    {
      "cell_type": "code",
      "execution_count": null,
      "id": "5d0a8980",
      "metadata": {
        "id": "5d0a8980"
      },
      "outputs": [],
      "source": [
        "for i in range(len(df)):\n",
        "    a={\"edad\" : int(df[\"edad\"][i]), \"salario\": int(df[\"salario\"][i]), \"score\": int(df[\"score\"][i])}\n",
        "    lista.append(a)"
      ]
    },
    {
      "cell_type": "code",
      "execution_count": null,
      "id": "c06c6f32",
      "metadata": {
        "id": "c06c6f32",
        "outputId": "5112aa88-f598-452b-9031-3a962fbc69f6"
      },
      "outputs": [
        {
          "name": "stdout",
          "output_type": "stream",
          "text": [
            "CPU times: total: 0 ns\n",
            "Wall time: 0 ns\n"
          ]
        },
        {
          "data": {
            "text/plain": [
              "[1, 1, 4, 0]"
            ]
          },
          "execution_count": 148,
          "metadata": {},
          "output_type": "execute_result"
        }
      ],
      "source": [
        "import time\n",
        "%time\n",
        "\n",
        "lista2=[]\n",
        "for i in range(len(lista)):\n",
        "    \n",
        "    response = requests.post('https://k-means-v1.herokuapp.com/predict', json=lista[i])\n",
        "    lista2.append(json.loads(response.content))\n",
        "lista2  "
      ]
    },
    {
      "cell_type": "code",
      "execution_count": null,
      "id": "a367bbaf",
      "metadata": {
        "id": "a367bbaf",
        "outputId": "9dcee8a7-0455-4afb-c21c-1da99a2eec92"
      },
      "outputs": [
        {
          "data": {
            "text/html": [
              "<div>\n",
              "<style scoped>\n",
              "    .dataframe tbody tr th:only-of-type {\n",
              "        vertical-align: middle;\n",
              "    }\n",
              "\n",
              "    .dataframe tbody tr th {\n",
              "        vertical-align: top;\n",
              "    }\n",
              "\n",
              "    .dataframe thead th {\n",
              "        text-align: right;\n",
              "    }\n",
              "</style>\n",
              "<table border=\"1\" class=\"dataframe\">\n",
              "  <thead>\n",
              "    <tr style=\"text-align: right;\">\n",
              "      <th></th>\n",
              "      <th>nombre</th>\n",
              "      <th>edad</th>\n",
              "      <th>salario</th>\n",
              "      <th>score</th>\n",
              "      <th>cluster</th>\n",
              "    </tr>\n",
              "  </thead>\n",
              "  <tbody>\n",
              "    <tr>\n",
              "      <th>0</th>\n",
              "      <td>Juan</td>\n",
              "      <td>71</td>\n",
              "      <td>50</td>\n",
              "      <td>60</td>\n",
              "      <td>1</td>\n",
              "    </tr>\n",
              "    <tr>\n",
              "      <th>1</th>\n",
              "      <td>Jorge</td>\n",
              "      <td>33</td>\n",
              "      <td>50</td>\n",
              "      <td>30</td>\n",
              "      <td>1</td>\n",
              "    </tr>\n",
              "    <tr>\n",
              "      <th>2</th>\n",
              "      <td>Daniela</td>\n",
              "      <td>31</td>\n",
              "      <td>80</td>\n",
              "      <td>80</td>\n",
              "      <td>4</td>\n",
              "    </tr>\n",
              "    <tr>\n",
              "      <th>3</th>\n",
              "      <td>pedro</td>\n",
              "      <td>20</td>\n",
              "      <td>20</td>\n",
              "      <td>30</td>\n",
              "      <td>0</td>\n",
              "    </tr>\n",
              "  </tbody>\n",
              "</table>\n",
              "</div>"
            ],
            "text/plain": [
              "    nombre  edad  salario  score  cluster\n",
              "0     Juan    71       50     60        1\n",
              "1    Jorge    33       50     30        1\n",
              "2  Daniela    31       80     80        4\n",
              "3    pedro    20       20     30        0"
            ]
          },
          "execution_count": 149,
          "metadata": {},
          "output_type": "execute_result"
        }
      ],
      "source": [
        "df[\"cluster\"]=  pd.DataFrame(lista2)\n",
        "df"
      ]
    },
    {
      "cell_type": "code",
      "execution_count": null,
      "id": "8cd85453",
      "metadata": {
        "id": "8cd85453"
      },
      "outputs": [],
      "source": [
        ""
      ]
    }
  ],
  "metadata": {
    "kernelspec": {
      "display_name": "Python 3 (ipykernel)",
      "language": "python",
      "name": "python3"
    },
    "language_info": {
      "codemirror_mode": {
        "name": "ipython",
        "version": 3
      },
      "file_extension": ".py",
      "mimetype": "text/x-python",
      "name": "python",
      "nbconvert_exporter": "python",
      "pygments_lexer": "ipython3",
      "version": "3.9.12"
    },
    "colab": {
      "name": "fast_API_kMEANS.ipynb",
      "provenance": [],
      "include_colab_link": true
    }
  },
  "nbformat": 4,
  "nbformat_minor": 5
}